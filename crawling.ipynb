{
 "cells": [
  {
   "cell_type": "code",
   "execution_count": 1,
   "metadata": {},
   "outputs": [],
   "source": [
    "from selenium import webdriver\n",
    "\n",
    "from bs4 import BeautifulSoup as bs\n",
    "import bs4\n",
    "from selenium.webdriver.common.keys import Keys\n",
    "from selenium.webdriver.common.by import By\n",
    "from time import sleep\n",
    "from lxml import etree\n",
    "import csv"
   ]
  },
  {
   "cell_type": "markdown",
   "metadata": {},
   "source": [
    "### 스크래퍼 클래스 선언"
   ]
  },
  {
   "cell_type": "code",
   "execution_count": 7,
   "metadata": {},
   "outputs": [],
   "source": [
    "class WebtoonParser(object):\n",
    "    def __init__(self):\n",
    "        self.driver = webdriver.Chrome()\n",
    "        ### 월,화,수,목,금,토,일,매일,완결\n",
    "        self.weekend = ['mon', 'tue', 'wed', 'thu', 'fri', 'sat', 'sun','dailyPlus','finish']\n",
    "        #self.weekend = ['mon']\n",
    "        self.url = 'https://comic.naver.com/webtoon?tab='\n",
    "        self.web = []\n",
    "        self.image = []\n",
    "        self.webtoon_url = {}\n",
    "\n",
    "    def excute(self):\n",
    "        for category in self.weekend:\n",
    "            nw_url = self.url + category\n",
    "            driver = self.driver\n",
    "            driver.get(nw_url)\n",
    "\n",
    "            sleep(1)\n",
    "            # 스크롤 높이 가져옴\n",
    "            self.scrolling(driver)\n",
    "\n",
    "            sleep(1)\n",
    "\n",
    "            html = driver.page_source\n",
    "            soup = bs(html, 'html.parser')\n",
    "\n",
    "            ### 이미지 추출\n",
    "            for title in soup.findAll('li', {'class':'item'}):\n",
    "                self.recur_webtoon(title)\n",
    "                img= title.findAll('img')\n",
    "                # print(\"이미지 탐색 중\")\n",
    "                self.image.extend(img)\n",
    "                # print(\"이미지 탐색 완료\")\n",
    "            \n",
    "\n",
    "            webtoon_list = soup.find('ul', {'class':'ContentList__content_list--q5KXY'})\n",
    "            self.total = len(webtoon_list)\n",
    "\n",
    "    ### 타이틀 , 작가, 평점 추출\n",
    "    def recur_webtoon(self,tag):\n",
    "        for child in tag.descendants:\n",
    "            if type(child) == bs4.element.NavigableString:\n",
    "                if child == '청유물' or child == '신작' or child == '휴재' or child == '완결' or child == 'UP' or child == 'NEW' or child == '유료작품':\n",
    "                    continue\n",
    "                self.web.append(child)\n",
    "            else:\n",
    "                id_ = child.find('a')\n",
    "                if id_ == None:\n",
    "                    continue\n",
    "                if id_['class'][0] == 'ContentTitle__title_area--x24vt':\n",
    "                    id_text = id_.find('span', {'class':'ContentTitle__title--e3qXt'}).text\n",
    "                    self.webtoon_url[id_text] = id_['href']\n",
    "                    \n",
    "\n",
    "    def scrolling(self, driver):\n",
    "        last_height = driver.execute_script(\"return document.body.scrollHeight\")\n",
    "        scroll_division = 10\n",
    "        while True:\n",
    "            \n",
    "            print(\"스크롤 중\")\n",
    "            # 끝까지 스크롤 다운\n",
    "            for i in range(1,scroll_division+1):\n",
    "                driver.execute_script(f\"window.scrollTo(0,(document.body.scrollHeight/{scroll_division})*{i})\")\n",
    "                sleep(1)\n",
    "            sleep(1)\n",
    "            # 스크롤 다운 후 스크롤 높이 다시 가져옴\n",
    "            new_height = driver.execute_script(\"return document.body.scrollHeight\")\n",
    "            if new_height == last_height:\n",
    "                break\n",
    "            last_height = new_height\n",
    "\n"
   ]
  },
  {
   "cell_type": "markdown",
   "metadata": {},
   "source": [
    "### 실행"
   ]
  },
  {
   "cell_type": "code",
   "execution_count": 8,
   "metadata": {},
   "outputs": [
    {
     "name": "stdout",
     "output_type": "stream",
     "text": [
      "스크롤 중\n",
      "스크롤 중\n",
      "스크롤 중\n",
      "스크롤 중\n",
      "스크롤 중\n",
      "스크롤 중\n",
      "스크롤 중\n",
      "스크롤 중\n",
      "스크롤 중\n",
      "스크롤 중\n",
      "스크롤 중\n",
      "스크롤 중\n",
      "스크롤 중\n",
      "스크롤 중\n",
      "스크롤 중\n",
      "스크롤 중\n",
      "스크롤 중\n",
      "스크롤 중\n",
      "스크롤 중\n",
      "스크롤 중\n",
      "스크롤 중\n",
      "스크롤 중\n",
      "스크롤 중\n",
      "스크롤 중\n",
      "스크롤 중\n",
      "스크롤 중\n",
      "스크롤 중\n",
      "스크롤 중\n",
      "스크롤 중\n",
      "스크롤 중\n",
      "스크롤 중\n",
      "스크롤 중\n",
      "스크롤 중\n",
      "스크롤 중\n",
      "스크롤 중\n",
      "스크롤 중\n",
      "스크롤 중\n",
      "스크롤 중\n",
      "스크롤 중\n",
      "스크롤 중\n",
      "스크롤 중\n",
      "스크롤 중\n",
      "스크롤 중\n",
      "스크롤 중\n"
     ]
    }
   ],
   "source": [
    "abc = WebtoonParser()\n",
    "abc.excute()"
   ]
  },
  {
   "cell_type": "markdown",
   "metadata": {},
   "source": [
    "### title, author, rating dictionary 저장"
   ]
  },
  {
   "cell_type": "code",
   "execution_count": 11,
   "metadata": {},
   "outputs": [],
   "source": [
    "lt1 = abc.web\n",
    "\n",
    "webtoon = []\n",
    "for i in range(0,len(lt1),4):\n",
    "    dic = {}\n",
    "    try:    \n",
    "        dic['title'] = lt1[i]\n",
    "        dic['author'] = lt1[i+1]\n",
    "        dic['rating'] = lt1[i+3]\n",
    "    except:\n",
    "        print(\"abc\")\n",
    "\n",
    "    webtoon.append(dic)"
   ]
  },
  {
   "cell_type": "markdown",
   "metadata": {},
   "source": [
    "### title image 추가"
   ]
  },
  {
   "cell_type": "code",
   "execution_count": 13,
   "metadata": {},
   "outputs": [],
   "source": [
    "for a, i in enumerate(abc.image):\n",
    "    for b, j in enumerate(webtoon):\n",
    "        if i['alt'] == j['title']:\n",
    "            webtoon[b]['image'] = i['src']\n",
    "            "
   ]
  },
  {
   "cell_type": "markdown",
   "metadata": {},
   "source": [
    "### url 추가"
   ]
  },
  {
   "cell_type": "code",
   "execution_count": 14,
   "metadata": {},
   "outputs": [],
   "source": [
    "for a, i in enumerate(abc.webtoon_url):\n",
    "    for b, j in enumerate(webtoon):\n",
    "        if i == j['title']:\n",
    "            webtoon[b]['url'] = abc.webtoon_url[i]"
   ]
  },
  {
   "cell_type": "markdown",
   "metadata": {},
   "source": [
    "### 제목 [드라마원작] 제거"
   ]
  },
  {
   "cell_type": "code",
   "execution_count": 20,
   "metadata": {},
   "outputs": [],
   "source": [
    "for a,i in enumerate(webtoon):\n",
    "    try:\n",
    "        webtoon[a]['title'] = webtoon[a]['title'].replace(\"[드라마원작] \", \"\")\n",
    "    except:\n",
    "        webtoon[a]['url'] = \"none\""
   ]
  },
  {
   "cell_type": "markdown",
   "metadata": {},
   "source": [
    "### csv 파일로 저장"
   ]
  },
  {
   "cell_type": "code",
   "execution_count": 21,
   "metadata": {},
   "outputs": [],
   "source": [
    "with open('./data/webtoon.csv', 'w', encoding='utf-8', newline='') as f:\n",
    "    fieldnames = ['title', 'author', 'rating', 'image', 'url']\n",
    "    writer = csv.DictWriter(f, fieldnames=fieldnames)\n",
    "    writer.writeheader()\n",
    "    for i in webtoon:\n",
    "        writer.writerow(i)\n",
    "        \n"
   ]
  },
  {
   "cell_type": "markdown",
   "metadata": {},
   "source": [
    "### 장르 크롤링"
   ]
  },
  {
   "cell_type": "code",
   "execution_count": 33,
   "metadata": {},
   "outputs": [],
   "source": [
    "\n",
    "webtoon_list = []\n",
    "\n",
    "with open('webtoon.csv', 'r', encoding='utf-8', newline='') as f:\n",
    "    fieldnames = ['title', 'author', 'rating', 'image','url']\n",
    "    reader = csv.DictReader(f, fieldnames=fieldnames)\n",
    "    \n",
    "    for n, row in enumerate(reader):\n",
    "        if n == 0:\n",
    "            continue\n",
    "\n",
    "        tmp = {}\n",
    "        tmp['title'] = row['title']\n",
    "        tmp['author'] = row['author']\n",
    "        tmp['rating'] = row['rating']\n",
    "        tmp['image'] = row['image']\n",
    "        url = 'https://comic.naver.com'+ row['url']\n",
    "        tmp['url'] = url\n",
    "\n",
    "        diver = webdriver.Chrome()\n",
    "        diver.get(url)\n",
    "        sleep(1)\n",
    "\n",
    "        html = diver.page_source\n",
    "        soup = bs(html, 'html.parser')\n",
    "        \n",
    "        try:\n",
    "            a = soup.find('div', {'class':'TagGroup__tag_group--uUJza'}).text\n",
    "        except:\n",
    "            tmp['genre'] = '청소년이용불가'\n",
    "            webtoon_list.append(tmp)\n",
    "            diver.close()\n",
    "            continue\n",
    "\n",
    "        tmp['genre'] = a\n",
    "\n",
    "        webtoon_list.append(tmp)\n",
    "\n",
    "        diver.close()\n"
   ]
  },
  {
   "cell_type": "markdown",
   "metadata": {},
   "source": [
    "### 최종 형태 저장"
   ]
  },
  {
   "cell_type": "code",
   "execution_count": null,
   "metadata": {},
   "outputs": [],
   "source": [
    "with open('./data/webtoon_com.csv', 'w', encoding='utf-8', newline='') as f1:\n",
    "    fieldnames1 = ['title', 'author', 'rating', 'image', 'url','genre']\n",
    "    writer1 = csv.DictWriter(f1, fieldnames=fieldnames1)\n",
    "    writer1.writeheader()\n",
    "    for i in webtoon_list:\n",
    "        writer1.writerow(i)"
   ]
  }
 ],
 "metadata": {
  "kernelspec": {
   "display_name": "env_tf",
   "language": "python",
   "name": "python3"
  },
  "language_info": {
   "codemirror_mode": {
    "name": "ipython",
    "version": 3
   },
   "file_extension": ".py",
   "mimetype": "text/x-python",
   "name": "python",
   "nbconvert_exporter": "python",
   "pygments_lexer": "ipython3",
   "version": "3.8.16"
  },
  "orig_nbformat": 4
 },
 "nbformat": 4,
 "nbformat_minor": 2
}
